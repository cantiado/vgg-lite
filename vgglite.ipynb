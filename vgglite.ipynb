{
  "nbformat": 4,
  "nbformat_minor": 0,
  "metadata": {
    "colab": {
      "name": "vgglite.ipynb",
      "provenance": []
    },
    "kernelspec": {
      "name": "python3",
      "display_name": "Python 3"
    },
    "language_info": {
      "name": "python"
    },
    "accelerator": "GPU"
  },
  "cells": [
    {
      "cell_type": "markdown",
      "source": [
        "#Importing Necessary Libraries"
      ],
      "metadata": {
        "id": "zjikuDqhF3WE"
      }
    },
    {
      "cell_type": "code",
      "execution_count": null,
      "metadata": {
        "id": "Ll9xxYtXD9nH"
      },
      "outputs": [],
      "source": [
        "import tensorflow.keras\n",
        "import tensorflow\n",
        "from tensorflow.keras.preprocessing.image import ImageDataGenerator\n",
        "from tensorflow.keras.models import Sequential\n",
        "from tensorflow.keras.layers import Conv2D, MaxPooling2D\n",
        "from tensorflow.keras.layers import Activation, Dropout, Flatten, Dense\n",
        "from tensorflow.keras import backend as K\n",
        "from tensorflow.keras.callbacks import ReduceLROnPlateau, ModelCheckpoint\n",
        "from tensorflow.keras.applications.resnet50 import ResNet50\n",
        "import numpy as np\n",
        "from tensorflow.keras.preprocessing import image\n",
        "import matplotlib.pyplot as plt\n",
        "%matplotlib inline\n",
        "from tensorflow.keras.utils import plot_model"
      ]
    },
    {
      "cell_type": "markdown",
      "source": [
        "#Mounting Google Drive and Loading Data"
      ],
      "metadata": {
        "id": "uErzOMLPFxsG"
      }
    },
    {
      "cell_type": "code",
      "source": [
        "from google.colab import drive\n",
        "drive.mount(\"/content/drive\")"
      ],
      "metadata": {
        "colab": {
          "base_uri": "https://localhost:8080/"
        },
        "id": "aEEZ5JURElJl",
        "outputId": "667fc989-0300-4e03-ca15-e522460ae42e"
      },
      "execution_count": null,
      "outputs": [
        {
          "output_type": "stream",
          "name": "stdout",
          "text": [
            "Drive already mounted at /content/drive; to attempt to forcibly remount, call drive.mount(\"/content/drive\", force_remount=True).\n"
          ]
        }
      ]
    },
    {
      "cell_type": "code",
      "source": [
        "!unzip -q \"drive/My Drive/Small_set_cats_vs_dogs.zip\""
      ],
      "metadata": {
        "id": "GDoQuaFTFiQ8"
      },
      "execution_count": null,
      "outputs": []
    },
    {
      "cell_type": "markdown",
      "source": [
        "#Hyper-Parameters Initialization"
      ],
      "metadata": {
        "id": "hQ2DoJnvGBvR"
      }
    },
    {
      "cell_type": "code",
      "source": [
        "epochs = 100\n",
        "batch_size = 32\n",
        "training_samples = 4000\n",
        "validation_samples = 600\n",
        "img_width = 224\n",
        "img_height = 224\n",
        "channels = 3\n",
        "input_shape = (img_width,img_height,3)"
      ],
      "metadata": {
        "id": "fS-6rxU7GEME"
      },
      "execution_count": null,
      "outputs": []
    },
    {
      "cell_type": "markdown",
      "source": [
        "#Data Preparation"
      ],
      "metadata": {
        "id": "S-EjISdUGXkd"
      }
    },
    {
      "cell_type": "code",
      "source": [
        "train_data_dir = \"Small_set_cats_vs_dogs/train\"\n",
        "validation_data_dir = \"Small_set_cats_vs_dogs/val\"\n",
        "train_datagen = ImageDataGenerator(\n",
        "    rescale = 1. / 255,\n",
        "    shear_range = 0.4,\n",
        "    zoom_range = 0.4,\n",
        "    rotation_range = 20,\n",
        "    width_shift_range = 0.4,\n",
        "    height_shift_range = 0.4,\n",
        "    horizontal_flip = True,\n",
        "    vertical_flip = True,\n",
        "    fill_mode = \"nearest\"\n",
        ")\n",
        "\n",
        "val_datagen = ImageDataGenerator(rescale = 1./255)\n",
        "print(\"Training Images ...\")\n",
        "train_generator = train_datagen.flow_from_directory(\n",
        "    train_data_dir,\n",
        "    target_size = (img_width, img_height),\n",
        "    batch_size = batch_size,\n",
        "    class_mode = \"binary\"\n",
        ")\n",
        "\n",
        "print(\"Validation Images ...\")\n",
        "validation_generator = val_datagen.flow_from_directory(\n",
        "    validation_data_dir,\n",
        "    target_size = (img_width, img_height),\n",
        "    batch_size = batch_size,\n",
        "    class_mode = \"binary\"\n",
        ")"
      ],
      "metadata": {
        "colab": {
          "base_uri": "https://localhost:8080/"
        },
        "id": "tNdPKg8jGZJt",
        "outputId": "00a3eb05-14b2-4dcf-975a-ce5027035def"
      },
      "execution_count": null,
      "outputs": [
        {
          "output_type": "stream",
          "name": "stdout",
          "text": [
            "Training Images ...\n",
            "Found 4000 images belonging to 2 classes.\n",
            "Validation Images ...\n",
            "Found 600 images belonging to 2 classes.\n"
          ]
        }
      ]
    },
    {
      "cell_type": "markdown",
      "source": [
        "#Network Setup"
      ],
      "metadata": {
        "id": "-WWs_wEw9QoX"
      }
    },
    {
      "cell_type": "markdown",
      "source": [
        "##VGG11 Architecture"
      ],
      "metadata": {
        "id": "BGgB1Rk7cgCM"
      }
    },
    {
      "cell_type": "code",
      "source": [
        "def create_model():\n",
        "    model = Sequential(name='VGG11Lite')\n",
        "    model.add(Conv2D(filters=64,kernel_size=3,strides=1,padding='same',name='1.Conv3-64',input_shape=input_shape))\n",
        "    model.add(Activation('relu',name='ReLU1'))\n",
        "    model.add(MaxPooling2D(pool_size=2,strides=2,name='MaxPool1'))\n",
        "\n",
        "    model.add(Conv2D(filters=128,kernel_size=3,strides=1,padding='same',name='2.Conv3-128'))\n",
        "    model.add(Activation('relu',name='ReLU2'))\n",
        "    model.add(MaxPooling2D(pool_size=2,strides=2,name='MaxPool2'))\n",
        "\n",
        "    model.add(Conv2D(filters=256,kernel_size=3,strides=1,padding='same',name='3.Conv3-256'))\n",
        "    model.add(Activation('relu',name='ReLU3'))\n",
        "    model.add(Conv2D(filters=256,kernel_size=3,strides=1,padding='same',name='4.Conv3-256'))\n",
        "    model.add(Activation('relu',name='ReLU4'))\n",
        "    model.add(MaxPooling2D(pool_size=2,strides=2,name='MaxPool3'))\n",
        "\n",
        "    model.add(Conv2D(filters=512,kernel_size=3,strides=1,padding='same',name='5.Conv3-512'))\n",
        "    model.add(Activation('relu',name='ReLU5'))\n",
        "    model.add(Conv2D(filters=512,kernel_size=3,strides=1,padding='same',name='6.Conv3-512'))\n",
        "    model.add(Activation('relu',name='ReLU6'))\n",
        "    model.add(MaxPooling2D(pool_size=2,strides=2,name='MaxPool4'))\n",
        "\n",
        "    model.add(Conv2D(filters=512,kernel_size=3,strides=1,padding='same',name='7.Conv3-512'))\n",
        "    model.add(Activation('relu',name='ReLU7'))\n",
        "    model.add(Conv2D(filters=512,kernel_size=3,strides=1,padding='same',name='8.Conv3-512'))\n",
        "    model.add(Activation('relu',name='ReLU8'))\n",
        "    model.add(MaxPooling2D(pool_size=2,strides=2,name='MaxPool5'))\n",
        "\n",
        "    model.add(Flatten(name='Flatten'))\n",
        "    model.add(Dense(4096,name='9.FC-4096'))\n",
        "    model.add(Activation('relu',name='ReLU9'))\n",
        "    model.add(Dense(4096,name='10.FC-4096'))\n",
        "    model.add(Activation('relu',name='ReLU10'))\n",
        "    model.add(Dense(1,name='11.FC-1'))\n",
        "    model.add(Activation('sigmoid',name='Sigmoid'))\n",
        "    model.compile(loss='binary_crossentropy',\n",
        "                optimizer='sgd',\n",
        "                metrics=['accuracy'])\n",
        "    \n",
        "    return model\n",
        "model = create_model()"
      ],
      "metadata": {
        "id": "QyfHpQ9lHh52"
      },
      "execution_count": null,
      "outputs": []
    },
    {
      "cell_type": "markdown",
      "source": [
        "##VGG19"
      ],
      "metadata": {
        "id": "qbJvyuEJcC5Y"
      }
    },
    {
      "cell_type": "code",
      "source": [
        "def create_model():\n",
        "    model = Sequential(name='VGG19Lite')\n",
        "    model.add(Conv2D(filters=64,kernel_size=3,strides=1,padding='same',name='1.Conv3-64',input_shape=input_shape))\n",
        "    model.add(Activation('relu',name='ReLU1'))\n",
        "    model.add(Conv2D(filters=64,kernel_size=3,strides=1,padding='same',name='2.Conv3-64',input_shape=input_shape))\n",
        "    model.add(Activation('relu',name='ReLU2'))\n",
        "    model.add(MaxPooling2D(pool_size=2,strides=2,name='MaxPool1'))\n",
        "\n",
        "    model.add(Conv2D(filters=128,kernel_size=3,strides=1,padding='same',name='3.Conv3-128'))\n",
        "    model.add(Activation('relu',name='ReLU3'))\n",
        "    model.add(Conv2D(filters=128,kernel_size=3,strides=1,padding='same',name='4.Conv3-128'))\n",
        "    model.add(Activation('relu',name='ReLU4'))\n",
        "    model.add(MaxPooling2D(pool_size=2,strides=2,name='MaxPool2'))\n",
        "\n",
        "    model.add(Conv2D(filters=256,kernel_size=3,strides=1,padding='same',name='5.Conv3-256'))\n",
        "    model.add(Activation('relu',name='ReLU5'))\n",
        "    model.add(Conv2D(filters=256,kernel_size=3,strides=1,padding='same',name='6.Conv3-256'))\n",
        "    model.add(Activation('relu',name='ReLU6'))\n",
        "    model.add(Conv2D(filters=256,kernel_size=3,strides=1,padding='same',name='7.Conv3-256'))\n",
        "    model.add(Activation('relu',name='ReLU7'))\n",
        "    model.add(Conv2D(filters=256,kernel_size=3,strides=1,padding='same',name='8.Conv3-256'))\n",
        "    model.add(Activation('relu',name='ReLU8'))\n",
        "    model.add(MaxPooling2D(pool_size=2,strides=2,name='MaxPool3'))\n",
        "\n",
        "    model.add(Conv2D(filters=512,kernel_size=3,strides=1,padding='same',name='9.Conv3-512'))\n",
        "    model.add(Activation('relu',name='ReLU9'))\n",
        "    model.add(Conv2D(filters=512,kernel_size=3,strides=1,padding='same',name='10.Conv3-512'))\n",
        "    model.add(Activation('relu',name='ReLU10'))\n",
        "    model.add(Conv2D(filters=512,kernel_size=3,strides=1,padding='same',name='11.Conv3-512'))\n",
        "    model.add(Activation('relu',name='ReLU11'))\n",
        "    model.add(Conv2D(filters=512,kernel_size=3,strides=1,padding='same',name='12.Conv3-512'))\n",
        "    model.add(Activation('relu',name='ReLU12'))\n",
        "    model.add(MaxPooling2D(pool_size=2,strides=2,name='MaxPool4'))\n",
        "\n",
        "    model.add(Conv2D(filters=512,kernel_size=3,strides=1,padding='same',name='13.Conv3-512'))\n",
        "    model.add(Activation('relu',name='ReLU13'))\n",
        "    model.add(Conv2D(filters=512,kernel_size=3,strides=1,padding='same',name='14.Conv3-512'))\n",
        "    model.add(Activation('relu',name='ReLU14'))\n",
        "    model.add(Conv2D(filters=512,kernel_size=3,strides=1,padding='same',name='15.Conv3-512'))\n",
        "    model.add(Activation('relu',name='ReLU15'))\n",
        "    model.add(Conv2D(filters=512,kernel_size=3,strides=1,padding='same',name='16.Conv3-512'))\n",
        "    model.add(Activation('relu',name='ReLU16'))\n",
        "    model.add(MaxPooling2D(pool_size=2,strides=2,name='MaxPool5'))\n",
        "\n",
        "    model.add(Flatten(name='Flatten'))\n",
        "    model.add(Dense(4096,name='17.FC-4096'))\n",
        "    model.add(Activation('relu',name='ReLU17'))\n",
        "    model.add(Dense(4096,name='18.FC-4096'))\n",
        "    model.add(Activation('relu',name='ReLU18'))\n",
        "    model.add(Dense(1,name='19.FC-1'))\n",
        "    model.add(Activation('sigmoid',name='Sigmoid'))\n",
        "    model.compile(loss='binary_crossentropy',\n",
        "                optimizer='sgd',\n",
        "                metrics=['accuracy'])\n",
        "    \n",
        "    return model\n",
        "model = create_model()"
      ],
      "metadata": {
        "id": "WpMqqSLfcGrw"
      },
      "execution_count": null,
      "outputs": []
    },
    {
      "cell_type": "markdown",
      "source": [
        "##VGG16"
      ],
      "metadata": {
        "id": "_6GeEDW8fErO"
      }
    },
    {
      "cell_type": "code",
      "source": [
        "def create_model():\n",
        "    model = Sequential(name='VGG16Lite')\n",
        "    model.add(Conv2D(filters=64,kernel_size=3,strides=1,padding='same',name='1.Conv3-64',input_shape=input_shape))\n",
        "    model.add(Activation('relu',name='ReLU1'))\n",
        "    model.add(Conv2D(filters=64,kernel_size=3,strides=1,padding='same',name='2.Conv3-64',input_shape=input_shape))\n",
        "    model.add(Activation('relu',name='ReLU2'))\n",
        "    model.add(MaxPooling2D(pool_size=2,strides=2,name='MaxPool1'))\n",
        "\n",
        "    model.add(Conv2D(filters=128,kernel_size=3,strides=1,padding='same',name='3.Conv3-128'))\n",
        "    model.add(Activation('relu',name='ReLU3'))\n",
        "    model.add(Conv2D(filters=128,kernel_size=3,strides=1,padding='same',name='4.Conv3-128'))\n",
        "    model.add(Activation('relu',name='ReLU4'))\n",
        "    model.add(MaxPooling2D(pool_size=2,strides=2,name='MaxPool2'))\n",
        "\n",
        "    model.add(Conv2D(filters=256,kernel_size=3,strides=1,padding='same',name='5.Conv3-256'))\n",
        "    model.add(Activation('relu',name='ReLU5'))\n",
        "    model.add(Conv2D(filters=256,kernel_size=3,strides=1,padding='same',name='6.Conv3-256'))\n",
        "    model.add(Activation('relu',name='ReLU6'))\n",
        "    model.add(Conv2D(filters=256,kernel_size=3,strides=1,padding='same',name='7.Conv3-256'))\n",
        "    model.add(Activation('relu',name='ReLU7'))\n",
        "    model.add(MaxPooling2D(pool_size=2,strides=2,name='MaxPool3'))\n",
        "\n",
        "    model.add(Conv2D(filters=512,kernel_size=3,strides=1,padding='same',name='8.Conv3-512'))\n",
        "    model.add(Activation('relu',name='ReLU8'))\n",
        "    model.add(Conv2D(filters=512,kernel_size=3,strides=1,padding='same',name='9.Conv3-512'))\n",
        "    model.add(Activation('relu',name='ReLU9'))\n",
        "    model.add(Conv2D(filters=512,kernel_size=3,strides=1,padding='same',name='10.Conv3-512'))\n",
        "    model.add(Activation('relu',name='ReLU10'))\n",
        "    model.add(MaxPooling2D(pool_size=2,strides=2,name='MaxPool4'))\n",
        "\n",
        "    model.add(Conv2D(filters=512,kernel_size=3,strides=1,padding='same',name='11.Conv3-512'))\n",
        "    model.add(Activation('relu',name='ReLU11'))\n",
        "    model.add(Conv2D(filters=512,kernel_size=3,strides=1,padding='same',name='12.Conv3-512'))\n",
        "    model.add(Activation('relu',name='ReLU12'))\n",
        "    model.add(Conv2D(filters=512,kernel_size=3,strides=1,padding='same',name='13.Conv3-512'))\n",
        "    model.add(Activation('relu',name='ReLU13'))\n",
        "    model.add(MaxPooling2D(pool_size=2,strides=2,name='MaxPool5'))\n",
        "\n",
        "    model.add(Flatten(name='Flatten'))\n",
        "    model.add(Dense(4096,name='14.FC-4096'))\n",
        "    model.add(Activation('relu',name='ReLU14'))\n",
        "    model.add(Dense(4096,name='15.FC-4096'))\n",
        "    model.add(Activation('relu',name='ReLU15'))\n",
        "    model.add(Dense(1,name='16.FC-1'))\n",
        "    model.add(Activation('sigmoid',name='Sigmoid'))\n",
        "    model.compile(loss='binary_crossentropy',\n",
        "                optimizer='sgd',\n",
        "                metrics=['accuracy'])\n",
        "    \n",
        "    return model\n",
        "model = create_model()"
      ],
      "metadata": {
        "id": "BSC3cs9BfGC9"
      },
      "execution_count": null,
      "outputs": []
    },
    {
      "cell_type": "markdown",
      "source": [
        "##VGG9"
      ],
      "metadata": {
        "id": "VkLYgTGS7PH7"
      }
    },
    {
      "cell_type": "code",
      "source": [
        "def create_model():\n",
        "    model = Sequential(name='VGG9Lite')\n",
        "    model.add(Conv2D(filters=64,kernel_size=3,strides=1,padding='same',name='1.Conv3-64',input_shape=input_shape))\n",
        "    model.add(Activation('relu',name='ReLU1'))\n",
        "    model.add(MaxPooling2D(pool_size=2,strides=2,name='MaxPool1'))\n",
        "\n",
        "    model.add(Conv2D(filters=128,kernel_size=3,strides=1,padding='same',name='2.Conv3-128'))\n",
        "    model.add(Activation('relu',name='ReLU2'))\n",
        "    model.add(MaxPooling2D(pool_size=2,strides=2,name='MaxPool2'))\n",
        "\n",
        "    model.add(Conv2D(filters=256,kernel_size=3,strides=1,padding='same',name='3.Conv3-256'))\n",
        "    model.add(Activation('relu',name='ReLU3'))\n",
        "    model.add(Conv2D(filters=256,kernel_size=3,strides=1,padding='same',name='4.Conv3-256'))\n",
        "    model.add(Activation('relu',name='ReLU4'))\n",
        "    model.add(MaxPooling2D(pool_size=2,strides=2,name='MaxPool3'))\n",
        "\n",
        "    model.add(Conv2D(filters=512,kernel_size=3,strides=1,padding='same',name='5.Conv3-512'))\n",
        "    model.add(Activation('relu',name='ReLU5'))\n",
        "    model.add(Conv2D(filters=512,kernel_size=3,strides=1,padding='same',name='6.Conv3-512'))\n",
        "    model.add(Activation('relu',name='ReLU6'))\n",
        "    model.add(MaxPooling2D(pool_size=2,strides=2,name='MaxPool4'))\n",
        "\n",
        "    model.add(Flatten(name='Flatten'))\n",
        "    model.add(Dense(4096,name='7.FC-4096'))\n",
        "    model.add(Activation('relu',name='ReLU7'))\n",
        "    model.add(Dense(4096,name='8.FC-4096'))\n",
        "    model.add(Activation('relu',name='ReLU8'))\n",
        "    model.add(Dense(1,name='9.FC-1'))\n",
        "    model.add(Activation('sigmoid',name='Sigmoid'))\n",
        "    model.compile(loss='binary_crossentropy',\n",
        "                optimizer='sgd',\n",
        "                metrics=['accuracy'])\n",
        "    \n",
        "    return model\n",
        "model = create_model()"
      ],
      "metadata": {
        "id": "hjYjiRqr7RAW",
        "colab": {
          "base_uri": "https://localhost:8080/",
          "height": 321
        },
        "outputId": "54830305-7f4d-4fb9-aabf-0ad294b0919a"
      },
      "execution_count": null,
      "outputs": [
        {
          "output_type": "error",
          "ename": "NameError",
          "evalue": "ignored",
          "traceback": [
            "\u001b[0;31m---------------------------------------------------------------------------\u001b[0m",
            "\u001b[0;31mNameError\u001b[0m                                 Traceback (most recent call last)",
            "\u001b[0;32m<ipython-input-1-7449d88d1eeb>\u001b[0m in \u001b[0;36m<module>\u001b[0;34m()\u001b[0m\n\u001b[1;32m     33\u001b[0m \u001b[0;34m\u001b[0m\u001b[0m\n\u001b[1;32m     34\u001b[0m     \u001b[0;32mreturn\u001b[0m \u001b[0mmodel\u001b[0m\u001b[0;34m\u001b[0m\u001b[0;34m\u001b[0m\u001b[0m\n\u001b[0;32m---> 35\u001b[0;31m \u001b[0mmodel\u001b[0m \u001b[0;34m=\u001b[0m \u001b[0mcreate_model\u001b[0m\u001b[0;34m(\u001b[0m\u001b[0;34m)\u001b[0m\u001b[0;34m\u001b[0m\u001b[0;34m\u001b[0m\u001b[0m\n\u001b[0m",
            "\u001b[0;32m<ipython-input-1-7449d88d1eeb>\u001b[0m in \u001b[0;36mcreate_model\u001b[0;34m()\u001b[0m\n\u001b[1;32m      1\u001b[0m \u001b[0;32mdef\u001b[0m \u001b[0mcreate_model\u001b[0m\u001b[0;34m(\u001b[0m\u001b[0;34m)\u001b[0m\u001b[0;34m:\u001b[0m\u001b[0;34m\u001b[0m\u001b[0;34m\u001b[0m\u001b[0m\n\u001b[0;32m----> 2\u001b[0;31m     \u001b[0mmodel\u001b[0m \u001b[0;34m=\u001b[0m \u001b[0mSequential\u001b[0m\u001b[0;34m(\u001b[0m\u001b[0mname\u001b[0m\u001b[0;34m=\u001b[0m\u001b[0;34m'VGG9Lite'\u001b[0m\u001b[0;34m)\u001b[0m\u001b[0;34m\u001b[0m\u001b[0;34m\u001b[0m\u001b[0m\n\u001b[0m\u001b[1;32m      3\u001b[0m     \u001b[0mmodel\u001b[0m\u001b[0;34m.\u001b[0m\u001b[0madd\u001b[0m\u001b[0;34m(\u001b[0m\u001b[0mConv2D\u001b[0m\u001b[0;34m(\u001b[0m\u001b[0mfilters\u001b[0m\u001b[0;34m=\u001b[0m\u001b[0;36m64\u001b[0m\u001b[0;34m,\u001b[0m\u001b[0mkernel_size\u001b[0m\u001b[0;34m=\u001b[0m\u001b[0;36m3\u001b[0m\u001b[0;34m,\u001b[0m\u001b[0mstrides\u001b[0m\u001b[0;34m=\u001b[0m\u001b[0;36m1\u001b[0m\u001b[0;34m,\u001b[0m\u001b[0mpadding\u001b[0m\u001b[0;34m=\u001b[0m\u001b[0;34m'same'\u001b[0m\u001b[0;34m,\u001b[0m\u001b[0mname\u001b[0m\u001b[0;34m=\u001b[0m\u001b[0;34m'1.Conv3-64'\u001b[0m\u001b[0;34m,\u001b[0m\u001b[0minput_shape\u001b[0m\u001b[0;34m=\u001b[0m\u001b[0minput_shape\u001b[0m\u001b[0;34m)\u001b[0m\u001b[0;34m)\u001b[0m\u001b[0;34m\u001b[0m\u001b[0;34m\u001b[0m\u001b[0m\n\u001b[1;32m      4\u001b[0m     \u001b[0mmodel\u001b[0m\u001b[0;34m.\u001b[0m\u001b[0madd\u001b[0m\u001b[0;34m(\u001b[0m\u001b[0mActivation\u001b[0m\u001b[0;34m(\u001b[0m\u001b[0;34m'relu'\u001b[0m\u001b[0;34m,\u001b[0m\u001b[0mname\u001b[0m\u001b[0;34m=\u001b[0m\u001b[0;34m'ReLU1'\u001b[0m\u001b[0;34m)\u001b[0m\u001b[0;34m)\u001b[0m\u001b[0;34m\u001b[0m\u001b[0;34m\u001b[0m\u001b[0m\n\u001b[1;32m      5\u001b[0m     \u001b[0mmodel\u001b[0m\u001b[0;34m.\u001b[0m\u001b[0madd\u001b[0m\u001b[0;34m(\u001b[0m\u001b[0mMaxPooling2D\u001b[0m\u001b[0;34m(\u001b[0m\u001b[0mpool_size\u001b[0m\u001b[0;34m=\u001b[0m\u001b[0;36m2\u001b[0m\u001b[0;34m,\u001b[0m\u001b[0mstrides\u001b[0m\u001b[0;34m=\u001b[0m\u001b[0;36m2\u001b[0m\u001b[0;34m,\u001b[0m\u001b[0mname\u001b[0m\u001b[0;34m=\u001b[0m\u001b[0;34m'MaxPool1'\u001b[0m\u001b[0;34m)\u001b[0m\u001b[0;34m)\u001b[0m\u001b[0;34m\u001b[0m\u001b[0;34m\u001b[0m\u001b[0m\n",
            "\u001b[0;31mNameError\u001b[0m: name 'Sequential' is not defined"
          ]
        }
      ]
    },
    {
      "cell_type": "markdown",
      "source": [
        "##Model Summary"
      ],
      "metadata": {
        "id": "UOI0faIlQv7Z"
      }
    },
    {
      "cell_type": "code",
      "source": [
        "model.summary()"
      ],
      "metadata": {
        "colab": {
          "base_uri": "https://localhost:8080/"
        },
        "id": "QPNm7P7cNTr2",
        "outputId": "1f923304-8007-4500-ad1e-809bb97fa332"
      },
      "execution_count": null,
      "outputs": [
        {
          "output_type": "stream",
          "name": "stdout",
          "text": [
            "Model: \"VGG9Litev2\"\n",
            "_________________________________________________________________\n",
            " Layer (type)                Output Shape              Param #   \n",
            "=================================================================\n",
            " 1.Conv3-64 (Conv2D)         (None, 224, 224, 64)      1792      \n",
            "                                                                 \n",
            " ReLU1 (Activation)          (None, 224, 224, 64)      0         \n",
            "                                                                 \n",
            " MaxPool1 (MaxPooling2D)     (None, 112, 112, 64)      0         \n",
            "                                                                 \n",
            " 2.Conv3-128 (Conv2D)        (None, 112, 112, 128)     73856     \n",
            "                                                                 \n",
            " ReLU2 (Activation)          (None, 112, 112, 128)     0         \n",
            "                                                                 \n",
            " MaxPool2 (MaxPooling2D)     (None, 56, 56, 128)       0         \n",
            "                                                                 \n",
            " 3.Conv3-256 (Conv2D)        (None, 56, 56, 256)       295168    \n",
            "                                                                 \n",
            " ReLU3 (Activation)          (None, 56, 56, 256)       0         \n",
            "                                                                 \n",
            " 4.Conv3-256 (Conv2D)        (None, 56, 56, 256)       590080    \n",
            "                                                                 \n",
            " ReLU4 (Activation)          (None, 56, 56, 256)       0         \n",
            "                                                                 \n",
            " MaxPool3 (MaxPooling2D)     (None, 28, 28, 256)       0         \n",
            "                                                                 \n",
            " 5.Conv3-512 (Conv2D)        (None, 28, 28, 512)       1180160   \n",
            "                                                                 \n",
            " ReLU5 (Activation)          (None, 28, 28, 512)       0         \n",
            "                                                                 \n",
            " 6.Conv3-512 (Conv2D)        (None, 28, 28, 512)       2359808   \n",
            "                                                                 \n",
            " ReLU6 (Activation)          (None, 28, 28, 512)       0         \n",
            "                                                                 \n",
            " MaxPool4 (MaxPooling2D)     (None, 14, 14, 512)       0         \n",
            "                                                                 \n",
            " Flatten (Flatten)           (None, 100352)            0         \n",
            "                                                                 \n",
            " 7.FC-256 (Dense)            (None, 256)               25690368  \n",
            "                                                                 \n",
            " ReLU7 (Activation)          (None, 256)               0         \n",
            "                                                                 \n",
            " 8.FC-256 (Dense)            (None, 256)               65792     \n",
            "                                                                 \n",
            " ReLU8 (Activation)          (None, 256)               0         \n",
            "                                                                 \n",
            " 9.FC-1 (Dense)              (None, 1)                 257       \n",
            "                                                                 \n",
            " Sigmoid (Activation)        (None, 1)                 0         \n",
            "                                                                 \n",
            "=================================================================\n",
            "Total params: 30,257,281\n",
            "Trainable params: 30,257,281\n",
            "Non-trainable params: 0\n",
            "_________________________________________________________________\n"
          ]
        }
      ]
    },
    {
      "cell_type": "markdown",
      "source": [
        "##Callbacks"
      ],
      "metadata": {
        "id": "k8-0fhzsQqGV"
      }
    },
    {
      "cell_type": "code",
      "source": [
        "reduce_lr = ReduceLROnPlateau(monitor='val_loss', factor=0.1, patience=5, verbose=0, mode='auto', min_delta=0.0001, cooldown=0, min_lr=0)\n",
        "\n",
        "snapshot_name = 'VGG11Lite'\n",
        "checkpoint = ModelCheckpoint(filepath=snapshot_name+\".{epoch:02d}-{val_accuracy:.2f}.hdf5\", monitor='val_accuracy', verbose=0, save_best_only=True, save_weights_only=False, mode='auto')"
      ],
      "metadata": {
        "id": "QDzsevT_QiAZ"
      },
      "execution_count": null,
      "outputs": []
    },
    {
      "cell_type": "markdown",
      "source": [
        "#Training and Validation"
      ],
      "metadata": {
        "id": "_jfOguA-RXnW"
      }
    },
    {
      "cell_type": "markdown",
      "source": [
        "##w/ Callback"
      ],
      "metadata": {
        "id": "cr4CNbjq746b"
      }
    },
    {
      "cell_type": "code",
      "source": [
        "history = model.fit(train_generator, \n",
        "    steps_per_epoch = training_samples // batch_size, \n",
        "    epochs = epochs, validation_data = validation_generator, \n",
        "    validation_steps = validation_samples // batch_size,\n",
        "    callbacks=[reduce_lr,checkpoint]) \n",
        "\n",
        "model.save_weights('VGG9Lite_v1_saved.h5')"
      ],
      "metadata": {
        "id": "KRQA-feNQzTx"
      },
      "execution_count": null,
      "outputs": []
    },
    {
      "cell_type": "markdown",
      "source": [
        "##w/o Callback"
      ],
      "metadata": {
        "id": "sHs49iaz77Ns"
      }
    },
    {
      "cell_type": "code",
      "source": [
        "history = model.fit(train_generator, \n",
        "    steps_per_epoch = training_samples // batch_size, \n",
        "    epochs = epochs, validation_data = validation_generator, \n",
        "    validation_steps = validation_samples // batch_size)\n",
        "\n",
        "model.save_weights('VGG9Lite_v1_saved.h5')"
      ],
      "metadata": {
        "id": "aYbmINkSUX9k"
      },
      "execution_count": null,
      "outputs": []
    },
    {
      "cell_type": "markdown",
      "source": [
        "## VGG9-Lite 100 epochs\n",
        "Epoch 1/100\n",
        "125/125 [==============================] - 75s 489ms/step - loss: 0.6929 - accuracy: 0.4997 - val_loss: 0.6924 - val_accuracy: 0.5677\n",
        "\n",
        "Epoch 2/100\n",
        "125/125 [==============================] - 61s 490ms/step - loss: 0.6921 - accuracy: 0.5303 - val_loss: 0.6919 - val_accuracy: 0.4948\n",
        "\n",
        "Epoch 3/100\n",
        "125/125 [==============================] - 62s 496ms/step - loss: 0.6909 - accuracy: 0.5230 - val_loss: 0.6910 - val_accuracy: 0.5347\n",
        "\n",
        "Epoch 4/100\n",
        "125/125 [==============================] - 62s 496ms/step - loss: 0.6907 - accuracy: 0.5480 - val_loss: 0.6890 - val_accuracy: 0.5434\n",
        "\n",
        "Epoch 5/100\n",
        "125/125 [==============================] - 62s 495ms/step - loss: 0.6894 - accuracy: 0.5552 - val_loss: 0.6910 - val_accuracy: 0.5017\n",
        "\n",
        "Epoch 6/100\n",
        "125/125 [==============================] - 62s 495ms/step - loss: 0.6878 - accuracy: 0.5508 - val_loss: 0.6883 - val_accuracy: 0.5017\n",
        "\n",
        "Epoch 7/100\n",
        "125/125 [==============================] - 62s 493ms/step - loss: 0.6850 - accuracy: 0.5633 - val_loss: 0.6815 - val_accuracy: 0.5712\n",
        "\n",
        "Epoch 8/100\n",
        "125/125 [==============================] - 62s 497ms/step - loss: 0.6834 - accuracy: 0.5587 - val_loss: 0.6888 - val_accuracy: 0.4965\n",
        "\n",
        "Epoch 9/100\n",
        "125/125 [==============================] - 62s 495ms/step - loss: 0.6794 - accuracy: 0.5698 - val_loss: 0.6842 - val_accuracy: 0.5260\n",
        "\n",
        "Epoch 10/100\n",
        "125/125 [==============================] - 62s 498ms/step - loss: 0.6790 - accuracy: 0.5623 - val_loss: 0.6829 - val_accuracy: 0.5538\n",
        "\n",
        "Epoch 11/100\n",
        "125/125 [==============================] - 62s 497ms/step - loss: 0.6771 - accuracy: 0.5715 - val_loss: 0.6670 - val_accuracy: 0.5764\n",
        "\n",
        "Epoch 12/100\n",
        "125/125 [==============================] - 62s 494ms/step - loss: 0.6728 - accuracy: 0.5790 - val_loss: 0.6938 - val_accuracy: 0.5295\n",
        "\n",
        "Epoch 13/100\n",
        "125/125 [==============================] - 62s 494ms/step - loss: 0.6744 - accuracy: 0.5695 - val_loss: 0.6824 - val_accuracy: 0.5469\n",
        "\n",
        "Epoch 14/100\n",
        "125/125 [==============================] - 62s 496ms/step - loss: 0.6688 - accuracy: 0.5803 - val_loss: 0.6631 - val_accuracy: 0.5903\n",
        "\n",
        "Epoch 15/100\n",
        "125/125 [==============================] - 62s 492ms/step - loss: 0.6699 - accuracy: 0.5822 - val_loss: 0.6650 - val_accuracy: 0.6128\n",
        "\n",
        "Epoch 16/100\n",
        "125/125 [==============================] - 62s 494ms/step - loss: 0.6650 - accuracy: 0.5880 - val_loss: 0.6617 - val_accuracy: 0.6163\n",
        "\n",
        "Epoch 17/100\n",
        "125/125 [==============================] - 62s 495ms/step - loss: 0.6631 - accuracy: 0.5915 - val_loss: 0.7176 - val_accuracy: 0.5052\n",
        "\n",
        "Epoch 18/100\n",
        "125/125 [==============================] - 62s 494ms/step - loss: 0.6602 - accuracy: 0.5943 - val_loss: 0.6603 - val_accuracy: 0.6181\n",
        "\n",
        "Epoch 19/100\n",
        "125/125 [==============================] - 62s 494ms/step - loss: 0.6610 - accuracy: 0.5978 - val_loss: 0.6603 - val_accuracy: 0.6007\n",
        "\n",
        "Epoch 20/100\n",
        "125/125 [==============================] - 62s 493ms/step - loss: 0.6583 - accuracy: 0.5943 - val_loss: 0.6772 - val_accuracy: 0.5885\n",
        "\n",
        "Epoch 21/100\n",
        "125/125 [==============================] - 62s 492ms/step - loss: 0.6653 - accuracy: 0.5840 - val_loss: 0.6802 - val_accuracy: 0.5816\n",
        "\n",
        "Epoch 22/100\n",
        "125/125 [==============================] - 62s 493ms/step - loss: 0.6588 - accuracy: 0.5872 - val_loss: 0.6754 - val_accuracy: 0.5521\n",
        "\n",
        "Epoch 23/100\n",
        "125/125 [==============================] - 62s 493ms/step - loss: 0.6560 - accuracy: 0.5962 - val_loss: 0.6725 - val_accuracy: 0.5677\n",
        "\n",
        "Epoch 24/100\n",
        "125/125 [==============================] - 62s 493ms/step - loss: 0.6564 - accuracy: 0.5955 - val_loss: 0.6652 - val_accuracy: 0.6076\n",
        "\n",
        "Epoch 25/100\n",
        "125/125 [==============================] - 62s 494ms/step - loss: 0.6560 - accuracy: 0.5940 - val_loss: 0.6510 - val_accuracy: 0.6181\n",
        "\n",
        "Epoch 26/100\n",
        "125/125 [==============================] - 62s 493ms/step - loss: 0.6544 - accuracy: 0.5930 - val_loss: 0.6664 - val_accuracy: 0.5781\n",
        "\n",
        "Epoch 27/100\n",
        "125/125 [==============================] - 62s 494ms/step - loss: 0.6533 - accuracy: 0.5982 - val_loss: 0.6706 - val_accuracy: 0.5833\n",
        "\n",
        "Epoch 28/100\n",
        "125/125 [==============================] - 62s 493ms/step - loss: 0.6528 - accuracy: 0.5997 - val_loss: 0.6481 - val_accuracy: 0.6302\n",
        "\n",
        "Epoch 29/100\n",
        "125/125 [==============================] - 62s 493ms/step - loss: 0.6532 - accuracy: 0.6045 - val_loss: 0.6525 - val_accuracy: 0.6285\n",
        "\n",
        "Epoch 30/100\n",
        "125/125 [==============================] - 62s 493ms/step - loss: 0.6528 - accuracy: 0.6055 - val_loss: 0.6458 - val_accuracy: 0.6250\n",
        "\n",
        "Epoch 31/100\n",
        "125/125 [==============================] - 62s 493ms/step - loss: 0.6524 - accuracy: 0.6058 - val_loss: 0.6505 - val_accuracy: 0.6007\n",
        "\n",
        "Epoch 32/100\n",
        "125/125 [==============================] - 62s 493ms/step - loss: 0.6494 - accuracy: 0.6055 - val_loss: 0.6535 - val_accuracy: 0.5955\n",
        "\n",
        "Epoch 33/100\n",
        "125/125 [==============================] - 62s 493ms/step - loss: 0.6503 - accuracy: 0.6015 - val_loss: 0.6468 - val_accuracy: 0.6215\n",
        "\n",
        "Epoch 34/100\n",
        "125/125 [==============================] - 62s 495ms/step - loss: 0.6500 - accuracy: 0.6165 - val_loss: 0.6489 - val_accuracy: 0.5955\n",
        "\n",
        "Epoch 35/100\n",
        "125/125 [==============================] - 62s 494ms/step - loss: 0.6409 - accuracy: 0.6097 - val_loss: 0.7142 - val_accuracy: 0.5226\n",
        "\n",
        "Epoch 36/100\n",
        "125/125 [==============================] - 62s 495ms/step - loss: 0.6440 - accuracy: 0.6140 - val_loss: 0.6398 - val_accuracy: 0.6285\n",
        "\n",
        "Epoch 37/100\n",
        "125/125 [==============================] - 62s 492ms/step - loss: 0.6454 - accuracy: 0.6160 - val_loss: 0.8193 - val_accuracy: 0.5122\n",
        "\n",
        "Epoch 38/100\n",
        "125/125 [==============================] - 62s 494ms/step - loss: 0.6434 - accuracy: 0.6152 - val_loss: 0.6482 - val_accuracy: 0.6181\n",
        "\n",
        "Epoch 39/100\n",
        "125/125 [==============================] - 62s 492ms/step - loss: 0.6403 - accuracy: 0.6175 - val_loss: 0.6298 - val_accuracy: 0.6580\n",
        "\n",
        "Epoch 40/100\n",
        "125/125 [==============================] - 62s 493ms/step - loss: 0.6448 - accuracy: 0.6183 - val_loss: 0.6380 - val_accuracy: 0.6233\n",
        "\n",
        "Epoch 41/100\n",
        "125/125 [==============================] - 62s 492ms/step - loss: 0.6378 - accuracy: 0.6280 - val_loss: 0.6436 - val_accuracy: 0.6163\n",
        "\n",
        "Epoch 42/100\n",
        "125/125 [==============================] - 62s 492ms/step - loss: 0.6382 - accuracy: 0.6180 - val_loss: 0.6805 - val_accuracy: 0.5781\n",
        "\n",
        "Epoch 43/100\n",
        "125/125 [==============================] - 62s 493ms/step - loss: 0.6351 - accuracy: 0.6273 - val_loss: 0.6333 - val_accuracy: 0.6285\n",
        "\n",
        "Epoch 44/100\n",
        "125/125 [==============================] - 62s 494ms/step - loss: 0.6324 - accuracy: 0.6335 - val_loss: 0.6237 - val_accuracy: 0.6545\n",
        "\n",
        "Epoch 45/100\n",
        "125/125 [==============================] - 62s 494ms/step - loss: 0.6395 - accuracy: 0.6202 - val_loss: 0.6532 - val_accuracy: 0.5903\n",
        "\n",
        "Epoch 46/100\n",
        "125/125 [==============================] - 62s 496ms/step - loss: 0.6358 - accuracy: 0.6225 - val_loss: 0.6261 - val_accuracy: 0.6632\n",
        "\n",
        "Epoch 47/100\n",
        "125/125 [==============================] - 62s 496ms/step - loss: 0.6375 - accuracy: 0.6288 - val_loss: 0.6258 - val_accuracy: 0.6458\n",
        "\n",
        "Epoch 48/100\n",
        "125/125 [==============================] - 62s 496ms/step - loss: 0.6264 - accuracy: 0.6363 - val_loss: 0.6573 - val_accuracy: 0.6059\n",
        "\n",
        "Epoch 49/100\n",
        "125/125 [==============================] - 62s 495ms/step - loss: 0.6279 - accuracy: 0.6417 - val_loss: 0.6150 - val_accuracy: 0.6684\n",
        "\n",
        "Epoch 50/100\n",
        "125/125 [==============================] - 62s 494ms/step - loss: 0.6276 - accuracy: 0.6410 - val_loss: 0.6141 - val_accuracy: 0.6510\n",
        "\n",
        "Epoch 51/100\n",
        "125/125 [==============================] - 62s 494ms/step - loss: 0.6225 - accuracy: 0.6425 - val_loss: 0.6199 - val_accuracy: 0.6580\n",
        "\n",
        "Epoch 52/100\n",
        "125/125 [==============================] - 62s 495ms/step - loss: 0.6270 - accuracy: 0.6390 - val_loss: 0.6113 - val_accuracy: 0.6892\n",
        "\n",
        "Epoch 53/100\n",
        "125/125 [==============================] - 62s 494ms/step - loss: 0.6262 - accuracy: 0.6447 - val_loss: 0.6423 - val_accuracy: 0.6076\n",
        "\n",
        "Epoch 54/100\n",
        "125/125 [==============================] - 62s 493ms/step - loss: 0.6195 - accuracy: 0.6513 - val_loss: 0.6153 - val_accuracy: 0.6719\n",
        "\n",
        "Epoch 55/100\n",
        "125/125 [==============================] - 62s 492ms/step - loss: 0.6251 - accuracy: 0.6423 - val_loss: 0.6126 - val_accuracy: 0.6562\n",
        "\n",
        "Epoch 56/100\n",
        "125/125 [==============================] - 62s 491ms/step - loss: 0.6211 - accuracy: 0.6440 - val_loss: 0.6058 - val_accuracy: 0.6962\n",
        "\n",
        "Epoch 57/100\n",
        "125/125 [==============================] - 62s 493ms/step - loss: 0.6190 - accuracy: 0.6485 - val_loss: 0.6105 - val_accuracy: 0.6562\n",
        "\n",
        "Epoch 58/100\n",
        "125/125 [==============================] - 62s 494ms/step - loss: 0.6140 - accuracy: 0.6515 - val_loss: 0.6147 - val_accuracy: 0.6719\n",
        "\n",
        "Epoch 59/100\n",
        "125/125 [==============================] - 63s 502ms/step - loss: 0.6212 - accuracy: 0.6495 - val_loss: 0.6789 - val_accuracy: 0.5781\n",
        "\n",
        "Epoch 60/100\n",
        "125/125 [==============================] - 62s 494ms/step - loss: 0.6119 - accuracy: 0.6538 - val_loss: 0.5869 - val_accuracy: 0.6892\n",
        "\n",
        "Epoch 61/100\n",
        "125/125 [==============================] - 61s 490ms/step - loss: 0.6091 - accuracy: 0.6605 - val_loss: 0.5875 - val_accuracy: 0.6979\n",
        "\n",
        "Epoch 62/100\n",
        "125/125 [==============================] - 62s 496ms/step - loss: 0.6103 - accuracy: 0.6570 - val_loss: 0.6452 - val_accuracy: 0.6146\n",
        "\n",
        "Epoch 63/100\n",
        "125/125 [==============================] - 63s 500ms/step - loss: 0.6044 - accuracy: 0.6695 - val_loss: 0.5748 - val_accuracy: 0.7066\n",
        "\n",
        "Epoch 64/100\n",
        "125/125 [==============================] - 63s 505ms/step - loss: 0.6070 - accuracy: 0.6633 - val_loss: 0.6010 - val_accuracy: 0.6615\n",
        "\n",
        "Epoch 65/100\n",
        "125/125 [==============================] - 63s 499ms/step - loss: 0.6077 - accuracy: 0.6668 - val_loss: 0.6065 - val_accuracy: 0.6510\n",
        "\n",
        "Epoch 66/100\n",
        "125/125 [==============================] - 63s 499ms/step - loss: 0.6067 - accuracy: 0.6697 - val_loss: 0.5697 - val_accuracy: 0.7240\n",
        "\n",
        "Epoch 67/100\n",
        "125/125 [==============================] - 62s 494ms/step - loss: 0.6009 - accuracy: 0.6695 - val_loss: 0.5802 - val_accuracy: 0.6979\n",
        "\n",
        "Epoch 68/100\n",
        "125/125 [==============================] - 62s 492ms/step - loss: 0.6052 - accuracy: 0.6727 - val_loss: 0.5584 - val_accuracy: 0.7205\n",
        "\n",
        "Epoch 69/100\n",
        "125/125 [==============================] - 62s 493ms/step - loss: 0.5980 - accuracy: 0.6758 - val_loss: 0.5828 - val_accuracy: 0.6927\n",
        "\n",
        "Epoch 70/100\n",
        "125/125 [==============================] - 62s 494ms/step - loss: 0.6073 - accuracy: 0.6628 - val_loss: 0.5711 - val_accuracy: 0.6771\n",
        "\n",
        "Epoch 71/100\n",
        "125/125 [==============================] - 62s 492ms/step - loss: 0.5938 - accuracy: 0.6737 - val_loss: 0.5563 - val_accuracy: 0.7135\n",
        "\n",
        "Epoch 72/100\n",
        "125/125 [==============================] - 62s 496ms/step - loss: 0.5977 - accuracy: 0.6702 - val_loss: 0.5627 - val_accuracy: 0.7448\n",
        "\n",
        "Epoch 73/100\n",
        "125/125 [==============================] - 62s 491ms/step - loss: 0.5926 - accuracy: 0.6785 - val_loss: 0.5565 - val_accuracy: 0.7205\n",
        "\n",
        "Epoch 74/100\n",
        "125/125 [==============================] - 62s 492ms/step - loss: 0.5979 - accuracy: 0.6700 - val_loss: 0.5485 - val_accuracy: 0.7344\n",
        "\n",
        "Epoch 75/100\n",
        "125/125 [==============================] - 61s 489ms/step - loss: 0.5896 - accuracy: 0.6825 - val_loss: 0.5689 - val_accuracy: 0.7222\n",
        "\n",
        "Epoch 76/100\n",
        "125/125 [==============================] - 61s 489ms/step - loss: 0.5851 - accuracy: 0.6858 - val_loss: 0.5415 - val_accuracy: 0.7326\n",
        "\n",
        "Epoch 77/100\n",
        "125/125 [==============================] - 61s 490ms/step - loss: 0.5908 - accuracy: 0.6845 - val_loss: 0.5546 - val_accuracy: 0.7222\n",
        "\n",
        "Epoch 78/100\n",
        "125/125 [==============================] - 61s 489ms/step - loss: 0.5908 - accuracy: 0.6840 - val_loss: 0.5485 - val_accuracy: 0.7205\n",
        "\n",
        "Epoch 79/100\n",
        "125/125 [==============================] - 62s 496ms/step - loss: 0.5967 - accuracy: 0.6760 - val_loss: 0.5427 - val_accuracy: 0.7448\n",
        "\n",
        "Epoch 80/100\n",
        "125/125 [==============================] - 62s 492ms/step - loss: 0.5844 - accuracy: 0.6810 - val_loss: 0.5521 - val_accuracy: 0.7344\n",
        "\n",
        "Epoch 81/100\n",
        "125/125 [==============================] - 61s 491ms/step - loss: 0.5862 - accuracy: 0.6860 - val_loss: 0.6398 - val_accuracy: 0.6476\n",
        "\n",
        "Epoch 82/100\n",
        "125/125 [==============================] - 61s 489ms/step - loss: 0.5836 - accuracy: 0.6883 - val_loss: 0.5415 - val_accuracy: 0.7500\n",
        "\n",
        "Epoch 83/100\n",
        "125/125 [==============================] - 61s 491ms/step - loss: 0.5794 - accuracy: 0.6913 - val_loss: 0.5396 - val_accuracy: 0.7326\n",
        "\n",
        "Epoch 84/100\n",
        "125/125 [==============================] - 61s 489ms/step - loss: 0.5822 - accuracy: 0.6935 - val_loss: 0.5427 - val_accuracy: 0.7170\n",
        "\n",
        "Epoch 85/100\n",
        "125/125 [==============================] - 62s 492ms/step - loss: 0.5834 - accuracy: 0.6910 - val_loss: 0.6016 - val_accuracy: 0.6632\n",
        "\n",
        "Epoch 86/100\n",
        "125/125 [==============================] - 62s 492ms/step - loss: 0.5764 - accuracy: 0.6967 - val_loss: 0.5430 - val_accuracy: 0.7257\n",
        "\n",
        "Epoch 87/100\n",
        "125/125 [==============================] - 62s 492ms/step - loss: 0.5787 - accuracy: 0.6930 - val_loss: 0.5846 - val_accuracy: 0.6944\n",
        "\n",
        "Epoch 88/100\n",
        "125/125 [==============================] - 62s 492ms/step - loss: 0.5826 - accuracy: 0.6875 - val_loss: 0.6936 - val_accuracy: 0.6024\n",
        "\n",
        "Epoch 89/100\n",
        "125/125 [==============================] - 62s 496ms/step - loss: 0.5810 - accuracy: 0.6885 - val_loss: 0.5348 - val_accuracy: 0.7257\n",
        "\n",
        "Epoch 90/100\n",
        "125/125 [==============================] - 62s 491ms/step - loss: 0.5800 - accuracy: 0.6865 - val_loss: 0.5217 - val_accuracy: 0.7361\n",
        "\n",
        "Epoch 91/100\n",
        "125/125 [==============================] - 62s 494ms/step - loss: 0.5733 - accuracy: 0.7015 - val_loss: 0.5327 - val_accuracy: 0.7552\n",
        "\n",
        "Epoch 92/100\n",
        "125/125 [==============================] - 62s 494ms/step - loss: 0.5792 - accuracy: 0.6960 - val_loss: 0.5317 - val_accuracy: 0.7465\n",
        "\n",
        "Epoch 93/100\n",
        "125/125 [==============================] - 62s 492ms/step - loss: 0.5611 - accuracy: 0.7085 - val_loss: 0.5550 - val_accuracy: 0.7118\n",
        "\n",
        "Epoch 94/100\n",
        "125/125 [==============================] - 61s 489ms/step - loss: 0.5700 - accuracy: 0.6998 - val_loss: 0.5249 - val_accuracy: 0.7378\n",
        "\n",
        "Epoch 95/100\n",
        "125/125 [==============================] - 61s 489ms/step - loss: 0.5682 - accuracy: 0.7135 - val_loss: 0.5138 - val_accuracy: 0.7535\n",
        "\n",
        "Epoch 96/100\n",
        "125/125 [==============================] - 62s 493ms/step - loss: 0.5697 - accuracy: 0.7032 - val_loss: 0.5614 - val_accuracy: 0.7257\n",
        "\n",
        "Epoch 97/100\n",
        "125/125 [==============================] - 62s 495ms/step - loss: 0.5739 - accuracy: 0.6927 - val_loss: 0.5445 - val_accuracy: 0.7031\n",
        "\n",
        "Epoch 98/100\n",
        "125/125 [==============================] - 62s 493ms/step - loss: 0.5684 - accuracy: 0.7053 - val_loss: 0.5120 - val_accuracy: 0.7587\n",
        "\n",
        "Epoch 99/100\n",
        "125/125 [==============================] - 61s 491ms/step - loss: 0.5653 - accuracy: 0.7048 - val_loss: 0.5539 - val_accuracy: 0.7066\n",
        "\n",
        "Epoch 100/100\n",
        "125/125 [==============================] - 61s 490ms/step - loss: 0.5628 - accuracy: 0.7045 - val_loss: 0.5263 - val_accuracy: 0.7378"
      ],
      "metadata": {
        "id": "0ZAs8sD76Jmo"
      }
    },
    {
      "cell_type": "markdown",
      "source": [
        "#Evaluating Test Data"
      ],
      "metadata": {
        "id": "oT2lF1rCsTG-"
      }
    },
    {
      "cell_type": "code",
      "source": [
        "test_data_dir = 'Small_set_cats_vs_dogs/test'\n",
        "\n",
        "test_datagen = ImageDataGenerator(rescale=1./255)\n",
        "\n",
        "test_generator = test_datagen.flow_from_directory(\n",
        "    test_data_dir,\n",
        "    target_size = (img_width, img_height),\n",
        "    batch_size = batch_size,\n",
        "    class_mode = 'binary'\n",
        ")"
      ],
      "metadata": {
        "colab": {
          "base_uri": "https://localhost:8080/"
        },
        "id": "XWKjorVisXJ_",
        "outputId": "e26eed8d-f772-4681-dfae-970d3f33d9b1"
      },
      "execution_count": null,
      "outputs": [
        {
          "output_type": "stream",
          "name": "stdout",
          "text": [
            "Found 200 images belonging to 2 classes.\n"
          ]
        }
      ]
    },
    {
      "cell_type": "code",
      "source": [
        "model.evaluate_generator(test_generator, verbose=2)"
      ],
      "metadata": {
        "colab": {
          "base_uri": "https://localhost:8080/"
        },
        "id": "a5L61d3atC9F",
        "outputId": "bdde6458-86ca-4213-f1fc-06533c5f75ba"
      },
      "execution_count": null,
      "outputs": [
        {
          "output_type": "stream",
          "name": "stderr",
          "text": [
            "/usr/local/lib/python3.7/dist-packages/ipykernel_launcher.py:1: UserWarning: `Model.evaluate_generator` is deprecated and will be removed in a future version. Please use `Model.evaluate`, which supports generators.\n",
            "  \"\"\"Entry point for launching an IPython kernel.\n"
          ]
        },
        {
          "output_type": "stream",
          "name": "stdout",
          "text": [
            "7/7 - 2s - loss: 0.6031 - accuracy: 0.6750 - 2s/epoch - 241ms/step\n"
          ]
        },
        {
          "output_type": "execute_result",
          "data": {
            "text/plain": [
              "[0.6031345129013062, 0.675000011920929]"
            ]
          },
          "metadata": {},
          "execution_count": 10
        }
      ]
    },
    {
      "cell_type": "markdown",
      "source": [
        "## Test evaluation on VGG9-Lite 100 epochs\n",
        "7/7 - 2s - loss: 0.6031 - accuracy: 0.6750 - 2s/epoch - 241ms/step\n"
      ],
      "metadata": {
        "id": "8t8d39k96HQQ"
      }
    },
    {
      "cell_type": "markdown",
      "source": [
        "#Plot Loss and Accuracy"
      ],
      "metadata": {
        "id": "jOic5gchtSiz"
      }
    },
    {
      "cell_type": "code",
      "source": [
        "plt.plot(history.history['accuracy'])\n",
        "plt.plot(history.history['val_accuracy'])\n",
        "plt.title('Model Accuracy')\n",
        "plt.ylabel('Accuracy')\n",
        "plt.xlabel('Epoch')\n",
        "plt.legend(['Train', 'Val'], loc='upper left')\n",
        "plt.savefig('VGG9-Lite_v2_acc.png')\n",
        "plt.show()\n",
        "# summarize history for loss\n",
        "plt.plot(history.history['loss'])\n",
        "plt.plot(history.history['val_loss'])\n",
        "plt.title('Model loss')\n",
        "plt.ylabel('Loss')\n",
        "plt.xlabel('Epoch')\n",
        "plt.legend(['Train', 'Val'], loc='upper left')\n",
        "plt.savefig('VGG9-Lite_v2_loss.png')\n",
        "plt.show()"
      ],
      "metadata": {
        "colab": {
          "base_uri": "https://localhost:8080/",
          "height": 573
        },
        "id": "SkgdeGLTtX8n",
        "outputId": "8144d1ca-2286-48f5-b06a-3c09fd493305"
      },
      "execution_count": null,
      "outputs": [
        {
          "output_type": "display_data",
          "data": {
            "text/plain": [
              "<Figure size 432x288 with 1 Axes>"
            ],
            "image/png": "[encoded data removed]"
          },
          "metadata": {
            "needs_background": "light"
          }
        },
        {
          "output_type": "display_data",
          "data": {
            "text/plain": [
              "<Figure size 432x288 with 1 Axes>"
            ],
            "image/png": "[encoded data removed]"
          },
          "metadata": {
            "needs_background": "light"
          }
        }
      ]
    }
  ]
}